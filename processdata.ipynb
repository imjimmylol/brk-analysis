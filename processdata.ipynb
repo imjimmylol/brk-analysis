{
 "cells": [
  {
   "cell_type": "code",
   "execution_count": 26,
   "metadata": {},
   "outputs": [],
   "source": [
    "import pandas as pd\n",
    "import numpy as np\n",
    "import tqdm\n",
    "from os import listdir\n",
    "from os.path import isfile, join\n",
    "import re"
   ]
  },
  {
   "cell_type": "markdown",
   "metadata": {},
   "source": [
    "# process anomoly files"
   ]
  },
  {
   "cell_type": "code",
   "execution_count": 2,
   "metadata": {},
   "outputs": [],
   "source": [
    "# merge anomoly files \n",
    "path2anomoly = './data_raw/brk/20240628_2022&2023年各分點對個股異常點漲幅超過10%前五名'\n",
    "files = [f for f in listdir(path2anomoly) if isfile(join(path2anomoly, f))]\n",
    "\n",
    "brk_anomaly = pd.DataFrame()\n",
    "\n",
    "for f in files:\n",
    "    df = pd.read_csv(path2anomoly+'/'+f, sep='\\t')\n",
    "    df['brk'] = re.search(r\"[\\w]{4}\", f).group(0)\n",
    "    brk_anomaly = pd.concat([brk_anomaly, df], axis=0, ignore_index=True)"
   ]
  },
  {
   "cell_type": "code",
   "execution_count": 3,
   "metadata": {},
   "outputs": [],
   "source": [
    "# keep 2022 data\n",
    "brk_anomaly['日期'] = pd.to_datetime(brk_anomaly['日期'])\n",
    "brk_anomaly_2022 = brk_anomaly[((brk_anomaly['日期']>='2022-01-01') & (brk_anomaly['日期']<='2023-01-01'))]"
   ]
  },
  {
   "cell_type": "code",
   "execution_count": 4,
   "metadata": {},
   "outputs": [
    {
     "data": {
      "text/html": [
       "<div>\n",
       "<style scoped>\n",
       "    .dataframe tbody tr th:only-of-type {\n",
       "        vertical-align: middle;\n",
       "    }\n",
       "\n",
       "    .dataframe tbody tr th {\n",
       "        vertical-align: top;\n",
       "    }\n",
       "\n",
       "    .dataframe thead th {\n",
       "        text-align: right;\n",
       "    }\n",
       "</style>\n",
       "<table border=\"1\" class=\"dataframe\">\n",
       "  <thead>\n",
       "    <tr style=\"text-align: right;\">\n",
       "      <th></th>\n",
       "      <th>股票代號</th>\n",
       "      <th>日期</th>\n",
       "      <th>買賣超</th>\n",
       "      <th>股票漲跌幅</th>\n",
       "      <th>股票結算日</th>\n",
       "      <th>brk</th>\n",
       "    </tr>\n",
       "  </thead>\n",
       "  <tbody>\n",
       "    <tr>\n",
       "      <th>0</th>\n",
       "      <td>6589</td>\n",
       "      <td>2022-11-23</td>\n",
       "      <td>-7594500</td>\n",
       "      <td>-0.113553</td>\n",
       "      <td>2022-12-21</td>\n",
       "      <td>1020</td>\n",
       "    </tr>\n",
       "    <tr>\n",
       "      <th>1</th>\n",
       "      <td>6589</td>\n",
       "      <td>2022-12-02</td>\n",
       "      <td>-9998014</td>\n",
       "      <td>-0.185430</td>\n",
       "      <td>2022-12-30</td>\n",
       "      <td>1020</td>\n",
       "    </tr>\n",
       "    <tr>\n",
       "      <th>2</th>\n",
       "      <td>6589</td>\n",
       "      <td>2022-12-07</td>\n",
       "      <td>-20176656</td>\n",
       "      <td>-0.241722</td>\n",
       "      <td>2023-01-05</td>\n",
       "      <td>1020</td>\n",
       "    </tr>\n",
       "    <tr>\n",
       "      <th>3</th>\n",
       "      <td>6589</td>\n",
       "      <td>2022-12-09</td>\n",
       "      <td>-15973000</td>\n",
       "      <td>-0.237013</td>\n",
       "      <td>2023-01-09</td>\n",
       "      <td>1020</td>\n",
       "    </tr>\n",
       "    <tr>\n",
       "      <th>7</th>\n",
       "      <td>2009</td>\n",
       "      <td>2022-03-04</td>\n",
       "      <td>-2374350</td>\n",
       "      <td>-0.126471</td>\n",
       "      <td>2022-04-01</td>\n",
       "      <td>1020</td>\n",
       "    </tr>\n",
       "    <tr>\n",
       "      <th>...</th>\n",
       "      <td>...</td>\n",
       "      <td>...</td>\n",
       "      <td>...</td>\n",
       "      <td>...</td>\n",
       "      <td>...</td>\n",
       "      <td>...</td>\n",
       "    </tr>\n",
       "    <tr>\n",
       "      <th>4464</th>\n",
       "      <td>1319</td>\n",
       "      <td>2022-05-30</td>\n",
       "      <td>8037600</td>\n",
       "      <td>0.211779</td>\n",
       "      <td>2022-06-28</td>\n",
       "      <td>700N</td>\n",
       "    </tr>\n",
       "    <tr>\n",
       "      <th>4465</th>\n",
       "      <td>1319</td>\n",
       "      <td>2022-06-09</td>\n",
       "      <td>8350927</td>\n",
       "      <td>0.217391</td>\n",
       "      <td>2022-07-07</td>\n",
       "      <td>700N</td>\n",
       "    </tr>\n",
       "    <tr>\n",
       "      <th>4466</th>\n",
       "      <td>1524</td>\n",
       "      <td>2022-05-12</td>\n",
       "      <td>8045800</td>\n",
       "      <td>0.623574</td>\n",
       "      <td>2022-06-10</td>\n",
       "      <td>700N</td>\n",
       "    </tr>\n",
       "    <tr>\n",
       "      <th>4467</th>\n",
       "      <td>1524</td>\n",
       "      <td>2022-09-27</td>\n",
       "      <td>-3305700</td>\n",
       "      <td>-0.194231</td>\n",
       "      <td>2022-10-26</td>\n",
       "      <td>700N</td>\n",
       "    </tr>\n",
       "    <tr>\n",
       "      <th>4468</th>\n",
       "      <td>1611</td>\n",
       "      <td>2022-01-19</td>\n",
       "      <td>-1050650</td>\n",
       "      <td>-0.160000</td>\n",
       "      <td>2022-02-25</td>\n",
       "      <td>700N</td>\n",
       "    </tr>\n",
       "  </tbody>\n",
       "</table>\n",
       "<p>3363 rows × 6 columns</p>\n",
       "</div>"
      ],
      "text/plain": [
       "      股票代號         日期        買賣超     股票漲跌幅       股票結算日   brk\n",
       "0     6589 2022-11-23   -7594500 -0.113553  2022-12-21  1020\n",
       "1     6589 2022-12-02   -9998014 -0.185430  2022-12-30  1020\n",
       "2     6589 2022-12-07  -20176656 -0.241722  2023-01-05  1020\n",
       "3     6589 2022-12-09  -15973000 -0.237013  2023-01-09  1020\n",
       "7     2009 2022-03-04   -2374350 -0.126471  2022-04-01  1020\n",
       "...    ...        ...        ...       ...         ...   ...\n",
       "4464  1319 2022-05-30    8037600  0.211779  2022-06-28  700N\n",
       "4465  1319 2022-06-09    8350927  0.217391  2022-07-07  700N\n",
       "4466  1524 2022-05-12    8045800  0.623574  2022-06-10  700N\n",
       "4467  1524 2022-09-27   -3305700 -0.194231  2022-10-26  700N\n",
       "4468  1611 2022-01-19   -1050650 -0.160000  2022-02-25  700N\n",
       "\n",
       "[3363 rows x 6 columns]"
      ]
     },
     "execution_count": 4,
     "metadata": {},
     "output_type": "execute_result"
    }
   ],
   "source": [
    "brk_anomaly_2022"
   ]
  },
  {
   "cell_type": "code",
   "execution_count": 5,
   "metadata": {},
   "outputs": [],
   "source": [
    "df_unique_anomaly_2022 = brk_anomaly_2022.drop_duplicates(subset=['股票代號', 'brk'])"
   ]
  },
  {
   "cell_type": "markdown",
   "metadata": {},
   "source": [
    "# merge all data "
   ]
  },
  {
   "cell_type": "code",
   "execution_count": 6,
   "metadata": {},
   "outputs": [],
   "source": [
    "import dask.dataframe as dd\n",
    "import dask.array as da"
   ]
  },
  {
   "cell_type": "code",
   "execution_count": 7,
   "metadata": {},
   "outputs": [],
   "source": [
    "path2complete = './data_raw/brk/complete_file'\n",
    "files = [f for f in listdir(path2complete) if isfile(join(path2complete, f))]"
   ]
  },
  {
   "cell_type": "code",
   "execution_count": 8,
   "metadata": {},
   "outputs": [],
   "source": [
    "df_complete = pd.DataFrame()\n",
    "ddf_complete = dd.from_pandas(df_complete, npartitions=9)\n",
    "\n",
    "for f in files:\n",
    "    df = dd.read_csv(path2complete+'/'+f)\n",
    "    ddf_complete = dd.concat([ddf_complete, df])"
   ]
  },
  {
   "cell_type": "markdown",
   "metadata": {},
   "source": [
    "# Raw analysis"
   ]
  },
  {
   "cell_type": "markdown",
   "metadata": {},
   "source": [
    "## 1. brk magnification"
   ]
  },
  {
   "cell_type": "markdown",
   "metadata": {},
   "source": [
    "**結論** : \n",
    "透過這個資料夾\n",
    "20240628_2022&2023年各分點對個股異常點漲幅超過10%前五名\n",
    "所抓出的分點\n",
    "\n",
    "可以過濾掉 \"\"全部\"\" 券商資料中的 \"\" 70%的分點 \"\""
   ]
  },
  {
   "cell_type": "code",
   "execution_count": 9,
   "metadata": {},
   "outputs": [],
   "source": [
    "uq_brk_anomaly = np.unique(brk_anomaly_2022['brk'])"
   ]
  },
  {
   "cell_type": "code",
   "execution_count": 10,
   "metadata": {},
   "outputs": [],
   "source": [
    "ddf_complete_len = ddf_complete.shape[0].compute()"
   ]
  },
  {
   "cell_type": "code",
   "execution_count": 11,
   "metadata": {},
   "outputs": [],
   "source": [
    "brk_mask = ddf_complete['分點'].isin(uq_brk_anomaly)\n",
    "ddf_complete_masked = ddf_complete[brk_mask]"
   ]
  },
  {
   "cell_type": "code",
   "execution_count": 12,
   "metadata": {},
   "outputs": [],
   "source": [
    "ddf_complete_masked_len= ddf_complete_masked.shape[0].compute()"
   ]
  },
  {
   "cell_type": "code",
   "execution_count": 13,
   "metadata": {},
   "outputs": [
    {
     "data": {
      "text/plain": [
       "0.2984408172101807"
      ]
     },
     "execution_count": 13,
     "metadata": {},
     "output_type": "execute_result"
    }
   ],
   "source": [
    "ddf_complete_masked_len/ddf_complete_len"
   ]
  },
  {
   "cell_type": "markdown",
   "metadata": {},
   "source": [
    "## 2. brk inner shrinkage"
   ]
  },
  {
   "cell_type": "code",
   "execution_count": 14,
   "metadata": {},
   "outputs": [
    {
     "data": {
      "text/html": [
       "<div>\n",
       "<style scoped>\n",
       "    .dataframe tbody tr th:only-of-type {\n",
       "        vertical-align: middle;\n",
       "    }\n",
       "\n",
       "    .dataframe tbody tr th {\n",
       "        vertical-align: top;\n",
       "    }\n",
       "\n",
       "    .dataframe thead th {\n",
       "        text-align: right;\n",
       "    }\n",
       "</style>\n",
       "<table border=\"1\" class=\"dataframe\">\n",
       "  <thead>\n",
       "    <tr style=\"text-align: right;\">\n",
       "      <th></th>\n",
       "      <th>股票代號</th>\n",
       "      <th>日期</th>\n",
       "      <th>買賣超</th>\n",
       "      <th>股票漲跌幅</th>\n",
       "      <th>股票結算日</th>\n",
       "      <th>brk</th>\n",
       "    </tr>\n",
       "  </thead>\n",
       "  <tbody>\n",
       "    <tr>\n",
       "      <th>0</th>\n",
       "      <td>6589</td>\n",
       "      <td>2022-11-23</td>\n",
       "      <td>-7594500</td>\n",
       "      <td>-0.113553</td>\n",
       "      <td>2022-12-21</td>\n",
       "      <td>1020</td>\n",
       "    </tr>\n",
       "    <tr>\n",
       "      <th>7</th>\n",
       "      <td>2009</td>\n",
       "      <td>2022-03-04</td>\n",
       "      <td>-2374350</td>\n",
       "      <td>-0.126471</td>\n",
       "      <td>2022-04-01</td>\n",
       "      <td>1020</td>\n",
       "    </tr>\n",
       "    <tr>\n",
       "      <th>10</th>\n",
       "      <td>2405</td>\n",
       "      <td>2022-08-31</td>\n",
       "      <td>-7776250</td>\n",
       "      <td>-0.220126</td>\n",
       "      <td>2022-09-29</td>\n",
       "      <td>1020</td>\n",
       "    </tr>\n",
       "    <tr>\n",
       "      <th>16</th>\n",
       "      <td>2498</td>\n",
       "      <td>2022-01-03</td>\n",
       "      <td>-10223900</td>\n",
       "      <td>-0.210465</td>\n",
       "      <td>2022-02-09</td>\n",
       "      <td>1021</td>\n",
       "    </tr>\n",
       "    <tr>\n",
       "      <th>20</th>\n",
       "      <td>4931</td>\n",
       "      <td>2022-05-23</td>\n",
       "      <td>-8920650</td>\n",
       "      <td>-0.134054</td>\n",
       "      <td>2022-06-21</td>\n",
       "      <td>1021</td>\n",
       "    </tr>\n",
       "    <tr>\n",
       "      <th>...</th>\n",
       "      <td>...</td>\n",
       "      <td>...</td>\n",
       "      <td>...</td>\n",
       "      <td>...</td>\n",
       "      <td>...</td>\n",
       "      <td>...</td>\n",
       "    </tr>\n",
       "    <tr>\n",
       "      <th>4458</th>\n",
       "      <td>2603</td>\n",
       "      <td>2022-03-02</td>\n",
       "      <td>-29314000</td>\n",
       "      <td>-0.108911</td>\n",
       "      <td>2022-03-30</td>\n",
       "      <td>700N</td>\n",
       "    </tr>\n",
       "    <tr>\n",
       "      <th>4461</th>\n",
       "      <td>2615</td>\n",
       "      <td>2022-02-21</td>\n",
       "      <td>-19395280</td>\n",
       "      <td>-0.166667</td>\n",
       "      <td>2022-03-22</td>\n",
       "      <td>700N</td>\n",
       "    </tr>\n",
       "    <tr>\n",
       "      <th>4464</th>\n",
       "      <td>1319</td>\n",
       "      <td>2022-05-30</td>\n",
       "      <td>8037600</td>\n",
       "      <td>0.211779</td>\n",
       "      <td>2022-06-28</td>\n",
       "      <td>700N</td>\n",
       "    </tr>\n",
       "    <tr>\n",
       "      <th>4466</th>\n",
       "      <td>1524</td>\n",
       "      <td>2022-05-12</td>\n",
       "      <td>8045800</td>\n",
       "      <td>0.623574</td>\n",
       "      <td>2022-06-10</td>\n",
       "      <td>700N</td>\n",
       "    </tr>\n",
       "    <tr>\n",
       "      <th>4468</th>\n",
       "      <td>1611</td>\n",
       "      <td>2022-01-19</td>\n",
       "      <td>-1050650</td>\n",
       "      <td>-0.160000</td>\n",
       "      <td>2022-02-25</td>\n",
       "      <td>700N</td>\n",
       "    </tr>\n",
       "  </tbody>\n",
       "</table>\n",
       "<p>1258 rows × 6 columns</p>\n",
       "</div>"
      ],
      "text/plain": [
       "      股票代號         日期        買賣超     股票漲跌幅       股票結算日   brk\n",
       "0     6589 2022-11-23   -7594500 -0.113553  2022-12-21  1020\n",
       "7     2009 2022-03-04   -2374350 -0.126471  2022-04-01  1020\n",
       "10    2405 2022-08-31   -7776250 -0.220126  2022-09-29  1020\n",
       "16    2498 2022-01-03  -10223900 -0.210465  2022-02-09  1021\n",
       "20    4931 2022-05-23   -8920650 -0.134054  2022-06-21  1021\n",
       "...    ...        ...        ...       ...         ...   ...\n",
       "4458  2603 2022-03-02  -29314000 -0.108911  2022-03-30  700N\n",
       "4461  2615 2022-02-21  -19395280 -0.166667  2022-03-22  700N\n",
       "4464  1319 2022-05-30    8037600  0.211779  2022-06-28  700N\n",
       "4466  1524 2022-05-12    8045800  0.623574  2022-06-10  700N\n",
       "4468  1611 2022-01-19   -1050650 -0.160000  2022-02-25  700N\n",
       "\n",
       "[1258 rows x 6 columns]"
      ]
     },
     "execution_count": 14,
     "metadata": {},
     "output_type": "execute_result"
    }
   ],
   "source": [
    "df_unique_anomaly_2022 "
   ]
  },
  {
   "cell_type": "code",
   "execution_count": 19,
   "metadata": {},
   "outputs": [],
   "source": [
    "enumerate_pair = {}\n",
    "\n",
    "for brk in df_unique_anomaly_2022['brk']:\n",
    "    ticker_li = list(np.unique(df_unique_anomaly_2022[df_unique_anomaly_2022['brk'] == brk]['股票代號']))\n",
    "    enumerate_pair[brk] = ticker_li"
   ]
  },
  {
   "cell_type": "code",
   "execution_count": 28,
   "metadata": {},
   "outputs": [
    {
     "name": "stderr",
     "output_type": "stream",
     "text": [
      "100%|██████████| 293/293 [00:00<00:00, 293581.24it/s]\n"
     ]
    }
   ],
   "source": [
    "for brk in tqdm.tqdm(enumerate_pair.keys()):\n",
    "\n",
    "    df_brk = ddf_complete_masked[ddf_complete_masked['分點']==brk].compute()\n",
    "\n",
    "    for tick in enumerate_pair[brk]:\n",
    "\n",
    "        df_brk[df_brk['股號']==tick].shape[0]"
   ]
  },
  {
   "cell_type": "code",
   "execution_count": 15,
   "metadata": {},
   "outputs": [],
   "source": [
    "ouo = ddf_complete_masked[(ddf_complete_masked['分點']=='1020')&(ddf_complete_masked['股號']==6589)].compute()"
   ]
  },
  {
   "cell_type": "code",
   "execution_count": 34,
   "metadata": {},
   "outputs": [
    {
     "data": {
      "text/plain": [
       "207"
      ]
     },
     "execution_count": 34,
     "metadata": {},
     "output_type": "execute_result"
    }
   ],
   "source": [
    "ouo.shape[0]"
   ]
  },
  {
   "cell_type": "code",
   "execution_count": 212,
   "metadata": {},
   "outputs": [
    {
     "data": {
      "text/plain": [
       "144477"
      ]
     },
     "execution_count": 212,
     "metadata": {},
     "output_type": "execute_result"
    }
   ],
   "source": [
    "# ddf_complete_masked[ddf_complete_masked['分點']==\"1020\"].shape[0].compute()"
   ]
  },
  {
   "cell_type": "code",
   "execution_count": 217,
   "metadata": {},
   "outputs": [],
   "source": [
    "_1020_6589 = ddf_complete_masked[(ddf_complete_masked['分點']==\"1020\")&(ddf_complete_masked['股號']==6589)].compute()"
   ]
  },
  {
   "cell_type": "code",
   "execution_count": null,
   "metadata": {},
   "outputs": [],
   "source": [
    "# https://holoviews.org/user_guide/Network_Graphs.html"
   ]
  },
  {
   "cell_type": "code",
   "execution_count": 216,
   "metadata": {},
   "outputs": [
    {
     "data": {
      "text/html": [
       "<div>\n",
       "<style scoped>\n",
       "    .dataframe tbody tr th:only-of-type {\n",
       "        vertical-align: middle;\n",
       "    }\n",
       "\n",
       "    .dataframe tbody tr th {\n",
       "        vertical-align: top;\n",
       "    }\n",
       "\n",
       "    .dataframe thead th {\n",
       "        text-align: right;\n",
       "    }\n",
       "</style>\n",
       "<table border=\"1\" class=\"dataframe\">\n",
       "  <thead>\n",
       "    <tr style=\"text-align: right;\">\n",
       "      <th></th>\n",
       "      <th>日期</th>\n",
       "      <th>股號</th>\n",
       "      <th>分點</th>\n",
       "      <th>買賣超金額</th>\n",
       "      <th>是否為總公司</th>\n",
       "    </tr>\n",
       "  </thead>\n",
       "  <tbody>\n",
       "    <tr>\n",
       "      <th>731673</th>\n",
       "      <td>2022-01-17</td>\n",
       "      <td>6589.0</td>\n",
       "      <td>1020</td>\n",
       "      <td>-120880.0</td>\n",
       "      <td>Y</td>\n",
       "    </tr>\n",
       "    <tr>\n",
       "      <th>975748</th>\n",
       "      <td>2022-01-13</td>\n",
       "      <td>6589.0</td>\n",
       "      <td>1020</td>\n",
       "      <td>16050.0</td>\n",
       "      <td>Y</td>\n",
       "    </tr>\n",
       "    <tr>\n",
       "      <th>752941</th>\n",
       "      <td>2022-01-03</td>\n",
       "      <td>6589.0</td>\n",
       "      <td>1020</td>\n",
       "      <td>21800.0</td>\n",
       "      <td>Y</td>\n",
       "    </tr>\n",
       "    <tr>\n",
       "      <th>278695</th>\n",
       "      <td>2022-01-18</td>\n",
       "      <td>6589.0</td>\n",
       "      <td>1020</td>\n",
       "      <td>-16000.0</td>\n",
       "      <td>Y</td>\n",
       "    </tr>\n",
       "    <tr>\n",
       "      <th>384572</th>\n",
       "      <td>2022-01-19</td>\n",
       "      <td>6589.0</td>\n",
       "      <td>1020</td>\n",
       "      <td>10450.0</td>\n",
       "      <td>Y</td>\n",
       "    </tr>\n",
       "    <tr>\n",
       "      <th>...</th>\n",
       "      <td>...</td>\n",
       "      <td>...</td>\n",
       "      <td>...</td>\n",
       "      <td>...</td>\n",
       "      <td>...</td>\n",
       "    </tr>\n",
       "    <tr>\n",
       "      <th>208599</th>\n",
       "      <td>2022-12-02</td>\n",
       "      <td>6589.0</td>\n",
       "      <td>1020</td>\n",
       "      <td>-9998014.0</td>\n",
       "      <td>Y</td>\n",
       "    </tr>\n",
       "    <tr>\n",
       "      <th>515948</th>\n",
       "      <td>2022-12-29</td>\n",
       "      <td>6589.0</td>\n",
       "      <td>1020</td>\n",
       "      <td>-619747.0</td>\n",
       "      <td>Y</td>\n",
       "    </tr>\n",
       "    <tr>\n",
       "      <th>1041808</th>\n",
       "      <td>2022-12-16</td>\n",
       "      <td>6589.0</td>\n",
       "      <td>1020</td>\n",
       "      <td>1384625.0</td>\n",
       "      <td>Y</td>\n",
       "    </tr>\n",
       "    <tr>\n",
       "      <th>955996</th>\n",
       "      <td>2022-12-28</td>\n",
       "      <td>6589.0</td>\n",
       "      <td>1020</td>\n",
       "      <td>432375.0</td>\n",
       "      <td>Y</td>\n",
       "    </tr>\n",
       "    <tr>\n",
       "      <th>1004415</th>\n",
       "      <td>2022-12-05</td>\n",
       "      <td>6589.0</td>\n",
       "      <td>1020</td>\n",
       "      <td>1968750.0</td>\n",
       "      <td>Y</td>\n",
       "    </tr>\n",
       "  </tbody>\n",
       "</table>\n",
       "<p>207 rows × 5 columns</p>\n",
       "</div>"
      ],
      "text/plain": [
       "                 日期      股號    分點      買賣超金額 是否為總公司\n",
       "731673   2022-01-17  6589.0  1020  -120880.0      Y\n",
       "975748   2022-01-13  6589.0  1020    16050.0      Y\n",
       "752941   2022-01-03  6589.0  1020    21800.0      Y\n",
       "278695   2022-01-18  6589.0  1020   -16000.0      Y\n",
       "384572   2022-01-19  6589.0  1020    10450.0      Y\n",
       "...             ...     ...   ...        ...    ...\n",
       "208599   2022-12-02  6589.0  1020 -9998014.0      Y\n",
       "515948   2022-12-29  6589.0  1020  -619747.0      Y\n",
       "1041808  2022-12-16  6589.0  1020  1384625.0      Y\n",
       "955996   2022-12-28  6589.0  1020   432375.0      Y\n",
       "1004415  2022-12-05  6589.0  1020  1968750.0      Y\n",
       "\n",
       "[207 rows x 5 columns]"
      ]
     },
     "execution_count": 216,
     "metadata": {},
     "output_type": "execute_result"
    }
   ],
   "source": [
    "test"
   ]
  },
  {
   "cell_type": "code",
   "execution_count": null,
   "metadata": {},
   "outputs": [],
   "source": []
  }
 ],
 "metadata": {
  "kernelspec": {
   "display_name": "sim_search",
   "language": "python",
   "name": "python3"
  },
  "language_info": {
   "codemirror_mode": {
    "name": "ipython",
    "version": 3
   },
   "file_extension": ".py",
   "mimetype": "text/x-python",
   "name": "python",
   "nbconvert_exporter": "python",
   "pygments_lexer": "ipython3",
   "version": "3.7.13"
  }
 },
 "nbformat": 4,
 "nbformat_minor": 2
}
